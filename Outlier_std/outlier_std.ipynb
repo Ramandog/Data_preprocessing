import copy
def outlier_std(a, windosize=5, n=3):

            X = copy.deepcopy(a.astype(float))
            m = X.shape[0]
            output = np.zeros((0, X.shape[1]))
            outlier = np.zeros((0, X.shape[1]))

            for i in range(m):

                        if i < windosize or m-windosize-1:
                                    output = np.append(output, X[i,:])

                        # elif i > m-windosize-1:
                        #             output = np.append(output, X[i,:])

                        else:
                                    pl = X[i-windosize:i+windosize+1, :].reshape(1,-1) 
                                    # median = np.median(pl, axis=0)
                                    mean = np.mean(pl, axis=0)
                                    Dx = np.zeros(pl.shape[0])
                                    for j in range(pl.shape[0]):
                                                xb = X[j, :]
                                                Dx[j] = np.linalg.norm(mean-xb)   
                                    
                                    mean_DX = np.std(Dx)
                                    std_DX = np.std(Dx)

                                    max_range = mean_DX + n*std_DX 
                                    min_range = mean_DX - n*std_DX
                                    if Dx[i] > max_range or Dx[i] < min_range:
                                                # max_range = mean + n*std *0.01
                                                outlier = np.append(outlier, output[-1, :].reshape(1,-1),axis=0)#加入上一个

                                    # if Dx[i] > max_range:
                                    #             max_range = median + n*std *0.01
                                    #             outlier = np.append(output, output[-1, :])

                                    # elif Dx[i] < min_range:
                                    #             min_range = median - n*std*0.01
                                    #             outlier = np.append(output, output[-1, :])

                                    else:
                                                output = np.append(output, X[i, :].reshape(1,-1),axis=0)

            #a = output
            return output, outlier

#Usage of algorithm:
'''
output, outlier = def outlier_std(input):

'''
