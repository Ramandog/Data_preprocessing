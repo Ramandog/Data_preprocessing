def avg(x, y):
    X = np.array([copy.deepcopy(x[0])])
    Y = np.array([copy.deepcopy(y[0])])
    n = 1
    for i in range(1, len(y)):
            if   y[i]==Y[-1]:
                    X[-1, :] =  X[-1, :] + x[i,:]
                    n+=1
                    if i==len(y)-1:
                            X[-1, :] = X[-1, :]/n
            else:
                    X[-1, :] = X[-1, :]/n
                    Y = np.append(Y, y[i])
                    X = np.append(X, x[i,:].reshape(1,-1), axis=0)
                    n = 1
    return X, Y


#Usage of algorithm:
'''
X, Y = avg(X1234[:1139, :],Y1234[:1139])
'''
